{
 "cells": [
  {
   "cell_type": "code",
   "execution_count": 1,
   "metadata": {},
   "outputs": [],
   "source": [
    "import torch \n",
    "import torch.nn as nn \n",
    "\n",
    "import math\n",
    "\n",
    "from torch.autograd import Variable"
   ]
  },
  {
   "cell_type": "markdown",
   "metadata": {},
   "source": [
    "# Embedding"
   ]
  },
  {
   "cell_type": "code",
   "execution_count": 26,
   "metadata": {},
   "outputs": [],
   "source": [
    "# Embedding\n",
    "class Embeddings(nn.Module):\n",
    "    def __init__(self, d_model, vocab):\n",
    "        super(Embeddings, self).__init__()\n",
    "        self.lut = nn.Embedding(vocab, d_model)\n",
    "        self.d_model = d_model\n",
    "    \n",
    "    def forward(self, x):\n",
    "        # 这里乘d_model的平方根是为了防止之后得到的点积结果过大（让结果的大小和d产生关系）\n",
    "        return self.lut(x) * math.sqrt(self.d_model)"
   ]
  },
  {
   "cell_type": "markdown",
   "metadata": {},
   "source": [
    "试一下"
   ]
  },
  {
   "cell_type": "code",
   "execution_count": 53,
   "metadata": {},
   "outputs": [
    {
     "name": "stdout",
     "output_type": "stream",
     "text": [
      "embr: tensor([[[ -0.4727, -23.0801, -20.2978,  ...,  23.7833, -10.6500,  -2.8896],\n",
      "         [ -4.1262,   4.9964,  11.5443,  ...,  10.2409,  -0.1705,  28.3753],\n",
      "         [ -4.1002,   9.3568,  13.2870,  ...,  32.2229,  14.5836, -25.5600],\n",
      "         [-35.4781,  15.1412,  -4.8302,  ...,  41.9955,  18.4732,  32.2180]],\n",
      "\n",
      "        [[ -1.8780, -10.1965,  18.2690,  ..., -34.9998,  37.6582,  16.0313],\n",
      "         [ 52.0511, -18.4778,   8.7807,  ...,  14.9741,   8.5761,   3.7784],\n",
      "         [ 23.8071,  24.3909,   7.9558,  ..., -41.5220,  -8.1696,  -1.2596],\n",
      "         [ 30.2460,  20.6235,   7.4179,  ...,  -8.5091, -10.5267, -41.8510]]],\n",
      "       grad_fn=<MulBackward0>)\n",
      "torch.Size([2, 4, 512])\n"
     ]
    }
   ],
   "source": [
    "emb = Embeddings(512, 1000)\n",
    "\n",
    "# x是text通过词汇映射后的数字张量\n",
    "x = Variable(torch.LongTensor([[100,2,421,508],[491,998,1,221]]))\n",
    "\n",
    "embr = emb(x)\n",
    "print('embr:', embr)\n",
    "print(embr.shape)"
   ]
  },
  {
   "cell_type": "markdown",
   "metadata": {},
   "source": [
    "practice"
   ]
  },
  {
   "cell_type": "code",
   "execution_count": 40,
   "metadata": {},
   "outputs": [],
   "source": [
    "class Embedding(nn.Module):\n",
    "    def __init__(self, d_model, vocab):\n",
    "        super().__init__()\n",
    "        self.lut = nn.Embedding(vocab, d_model) # 注意参数顺序，先是vocab再是d_model\n",
    "        self.d_model = d_model\n",
    "\n",
    "    def forward(self, x):\n",
    "        return self.lut(x) * math.sqrt(self.d_model) # self.d_model注意self\n"
   ]
  },
  {
   "cell_type": "code",
   "execution_count": 41,
   "metadata": {},
   "outputs": [
    {
     "data": {
      "text/plain": [
       "(tensor([[[ 25.3110,  -2.7851,  30.2216,  ..., -13.8080, -14.4813, -12.8123],\n",
       "          [ -1.3550, -26.4017, -10.4651,  ..., -17.2022,  -6.7288,  65.2268],\n",
       "          [ 19.5472, -17.9188,  10.3435,  ...,   7.9842, -11.3172, -20.1226],\n",
       "          [  3.2394,  31.9027,   2.3687,  ...,  -8.6424,  22.1775, -55.5508]],\n",
       " \n",
       "         [[ 25.3110,  -2.7851,  30.2216,  ..., -13.8080, -14.4813, -12.8123],\n",
       "          [ 25.3110,  -2.7851,  30.2216,  ..., -13.8080, -14.4813, -12.8123],\n",
       "          [ 25.3110,  -2.7851,  30.2216,  ..., -13.8080, -14.4813, -12.8123],\n",
       "          [  3.2394,  31.9027,   2.3687,  ...,  -8.6424,  22.1775, -55.5508]]],\n",
       "        grad_fn=<MulBackward0>),\n",
       " torch.Size([2, 4, 512]))"
      ]
     },
     "execution_count": 41,
     "metadata": {},
     "output_type": "execute_result"
    }
   ],
   "source": [
    "emb = Embedding(512, 1000)\n",
    "x = Variable(torch.LongTensor([[123,456,789,444],[123,123,123,444]]))\n",
    "embr = emb(x)\n",
    "\n",
    "embr, embr.shape"
   ]
  },
  {
   "cell_type": "markdown",
   "metadata": {},
   "source": [
    "# 位置编码"
   ]
  },
  {
   "cell_type": "code",
   "execution_count": null,
   "metadata": {},
   "outputs": [],
   "source": []
  }
 ],
 "metadata": {
  "kernelspec": {
   "display_name": "AI&Brain",
   "language": "python",
   "name": "python3"
  },
  "language_info": {
   "codemirror_mode": {
    "name": "ipython",
    "version": 3
   },
   "file_extension": ".py",
   "mimetype": "text/x-python",
   "name": "python",
   "nbconvert_exporter": "python",
   "pygments_lexer": "ipython3",
   "version": "3.8.18"
  }
 },
 "nbformat": 4,
 "nbformat_minor": 2
}
